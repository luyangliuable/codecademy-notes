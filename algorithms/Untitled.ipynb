{
 "cells": [
  {
   "cell_type": "code",
   "execution_count": 5,
   "id": "4c43b3f6",
   "metadata": {},
   "outputs": [],
   "source": [
    "import time"
   ]
  },
  {
   "cell_type": "code",
   "execution_count": 6,
   "id": "8df50a00",
   "metadata": {},
   "outputs": [],
   "source": [
    "import random"
   ]
  },
  {
   "cell_type": "code",
   "execution_count": 9,
   "id": "2363941e",
   "metadata": {},
   "outputs": [
    {
     "name": "stdout",
     "output_type": "stream",
     "text": [
      "11\n",
      "going to count sort [2, 8, 10, 3, 5, 10, 1, 8, 6, 8]\n",
      "result: [1, 2, 3, 5, 6, 8, 8, 8, 10, 10]\n",
      "result took 0.000168000000000057s to run\n"
     ]
    }
   ],
   "source": [
    "def count_sort(dictionary: list, input_list: list) -> tuple:\n",
    "\n",
    "    count = [0]*len(dictionary)\n",
    "    pos = [0]*len(dictionary)\n",
    "\n",
    "    for i in input_list:\n",
    "        count[i] += 1\n",
    "\n",
    "    for i in range(len(dictionary)):\n",
    "        pos[i] = sum(count[:i])\n",
    "        # pos[i] = pos[i-1] + count[i-1]\n",
    "\n",
    "    temp = [0]*len(input_list)\n",
    "    for i in range(len(input_list)):\n",
    "        temp[pos[input_list[i]]] = input_list[i]\n",
    "        pos[input_list[i]] += 1\n",
    "\n",
    "    return count, pos, temp\n",
    "\n",
    "\n",
    "dictionary=[0,1,2,3,4,5,6,7,8,9,10]\n",
    "print(len(dictionary))\n",
    "input = [ random.choice(dictionary) for _ in range(10) ]\n",
    "\n",
    "\n",
    "print(\"going to count sort\", input)\n",
    "start = time.process_time()\n",
    "result = count_sort(dictionary, input)[2]\n",
    "end = time.process_time() - start\n",
    "print(\"result:\",  result)\n",
    "print(\"result took\", str(end) + \"s\", \"to run\")\n"
   ]
  },
  {
   "cell_type": "code",
   "execution_count": 10,
   "id": "63ad41ad",
   "metadata": {},
   "outputs": [
    {
     "name": "stdout",
     "output_type": "stream",
     "text": [
      "sorting array [9350, 6058, 1757, 1645, 9742, 3180, 9042, 1650, 4704, 2638]\n",
      "for 1th digit, the resulting sorted array is [4704, 2638, 1645, 9742, 9042, 9350, 6058, 1757, 1650, 3180]\n",
      "for 2th digit, the resulting sorted array is [9042, 6058, 3180, 9350, 2638, 1645, 1650, 4704, 9742, 1757]\n",
      "for 3th digit, the resulting sorted array is [1645, 1650, 1757, 2638, 3180, 4704, 6058, 9042, 9350, 9742]\n",
      "for 4th digit, the resulting sorted array is [1645, 1650, 1757, 2638, 3180, 4704, 6058, 9042, 9350, 9742]\n",
      "[1645, 1650, 1757, 2638, 3180, 4704, 6058, 9042, 9350, 9742]\n"
     ]
    }
   ],
   "source": [
    "def get_digit(number: int, digit: int) -> int:\n",
    "    # NOTE: digit starts from 0 which means first one from the left!\n",
    "    return number // 10**digit % 10\n",
    "\n",
    "\n",
    "def radix_pass(input_list: list, base, digit):\n",
    "    counter = [0]*(base)\n",
    "\n",
    "    pos = [0]*(base)\n",
    "    # pos[0] = 1\n",
    "    for i in range(len(input_list)):\n",
    "        counter[get_digit(input_list[i], digit)] += 1\n",
    "\n",
    "    for i in range(base):\n",
    "        pos[i] = sum(counter[:i])\n",
    "\n",
    "    temp = [0]*len(input_list)\n",
    "\n",
    "    for i in range(len(input_list)):\n",
    "        num = get_digit(input_list[i], digit)\n",
    "        temp[pos[num]] = input_list[i]\n",
    "        pos[num] += 1\n",
    "\n",
    "    return temp\n",
    "\n",
    "\n",
    "def radix_sort(input_list: list, base, digits):\n",
    "    for digit in range(1, digits + 1):\n",
    "        input_list = radix_pass(input_list, base, digit)\n",
    "        print(\"for\", str( digit ) + \"th\", \"digit, the resulting sorted array is\", input_list)\n",
    "\n",
    "\n",
    "    return input_list\n",
    "\n",
    "\n",
    "arr = [random.randint(1000,9999) for _ in range(10)]\n",
    "print(\"sorting array\", arr)\n",
    "print(radix_sort(arr, 10, 4))\n"
   ]
  }
 ],
 "metadata": {
  "kernelspec": {
   "display_name": "Python 3 (ipykernel)",
   "language": "python",
   "name": "python3"
  },
  "language_info": {
   "codemirror_mode": {
    "name": "ipython",
    "version": 3
   },
   "file_extension": ".py",
   "mimetype": "text/x-python",
   "name": "python",
   "nbconvert_exporter": "python",
   "pygments_lexer": "ipython3",
   "version": "3.8.3"
  }
 },
 "nbformat": 4,
 "nbformat_minor": 5
}
